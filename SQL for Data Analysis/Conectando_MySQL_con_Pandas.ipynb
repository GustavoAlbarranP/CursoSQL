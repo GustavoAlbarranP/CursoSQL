{
  "cells": [
    {
      "cell_type": "code",
      "execution_count": null,
      "id": "01c47cc2",
      "metadata": {
        "id": "01c47cc2"
      },
      "outputs": [],
      "source": [
        "import mysql.connector as sql\n",
        "import pandas as pd\n",
        "import warnings\n",
        "warnings.filterwarnings('ignore')"
      ]
    },
    {
      "cell_type": "markdown",
      "id": "fbc43863",
      "metadata": {
        "id": "fbc43863"
      },
      "source": [
        "### Crear conexión"
      ]
    },
    {
      "cell_type": "code",
      "execution_count": null,
      "id": "645ef1eb",
      "metadata": {
        "id": "645ef1eb"
      },
      "outputs": [],
      "source": [
        "db_connection = sql.connect(host='localhost', database='tienda',\n",
        "user='root', password='GeoGonz11235')"
      ]
    },
    {
      "cell_type": "markdown",
      "id": "b0d54c50",
      "metadata": {
        "id": "b0d54c50"
      },
      "source": [
        "### Leer los datos"
      ]
    },
    {
      "cell_type": "code",
      "execution_count": null,
      "id": "74acfeaa",
      "metadata": {
        "id": "74acfeaa"
      },
      "outputs": [],
      "source": [
        "df = pd.read_sql('SELECT * FROM clientes', con=db_connection)"
      ]
    },
    {
      "cell_type": "code",
      "execution_count": null,
      "id": "18f67c45",
      "metadata": {
        "id": "18f67c45"
      },
      "outputs": [],
      "source": [
        "df"
      ]
    }
  ],
  "metadata": {
    "kernelspec": {
      "display_name": "Python 3 (ipykernel)",
      "language": "python",
      "name": "python3"
    },
    "language_info": {
      "codemirror_mode": {
        "name": "ipython",
        "version": 3
      },
      "file_extension": ".py",
      "mimetype": "text/x-python",
      "name": "python",
      "nbconvert_exporter": "python",
      "pygments_lexer": "ipython3",
      "version": "3.10.6"
    },
    "colab": {
      "provenance": []
    }
  },
  "nbformat": 4,
  "nbformat_minor": 5
}