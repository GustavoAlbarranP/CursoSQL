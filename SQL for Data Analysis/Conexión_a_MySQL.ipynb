{
  "cells": [
    {
      "cell_type": "markdown",
      "id": "12fccc63",
      "metadata": {
        "id": "12fccc63"
      },
      "source": [
        "## Conexión de MySQL desde Python"
      ]
    },
    {
      "cell_type": "code",
      "execution_count": null,
      "id": "4f2dd0ed",
      "metadata": {
        "id": "4f2dd0ed"
      },
      "outputs": [],
      "source": [
        "!pip install mysql-connector-python"
      ]
    },
    {
      "cell_type": "code",
      "execution_count": null,
      "id": "abed6442",
      "metadata": {
        "id": "abed6442"
      },
      "outputs": [],
      "source": [
        "## Cargamos librerías\n",
        "import mysql.connector"
      ]
    },
    {
      "cell_type": "code",
      "execution_count": null,
      "id": "30f560a2",
      "metadata": {
        "id": "30f560a2"
      },
      "outputs": [],
      "source": [
        "## Conexion con el servidor\n",
        "conexion = mysql.connector.connect(\n",
        "    user = 'root',\n",
        "    password = '', ## Añadir password\n",
        "    host = 'localhost',\n",
        ")\n",
        "\n",
        "## Creamos un cursor\n",
        "cursor = conexion.cursor()"
      ]
    },
    {
      "cell_type": "code",
      "execution_count": null,
      "id": "55935eb5",
      "metadata": {
        "scrolled": true,
        "id": "55935eb5"
      },
      "outputs": [],
      "source": [
        "## Explorar las bases de datos del servidor MySQL\n",
        "\n",
        "cursor.execute(\"SHOW DATABASES\")\n",
        "for bd in cursor:\n",
        "    print(bd)"
      ]
    },
    {
      "cell_type": "markdown",
      "id": "3500a63d",
      "metadata": {
        "id": "3500a63d"
      },
      "source": [
        "## Crear bases de datos MySQL desde Python"
      ]
    },
    {
      "cell_type": "code",
      "execution_count": null,
      "id": "e7b2c008",
      "metadata": {
        "scrolled": true,
        "id": "e7b2c008"
      },
      "outputs": [],
      "source": [
        "#conexion con el servidor\n",
        "conexion = mysql.connector.connect(\n",
        "    host = \"localhost\",\n",
        "    user = \"root\",\n",
        "    password = \"\", ## Añadir password propia\n",
        ")\n",
        "\n",
        "#creación del cursor\n",
        "cursor = conexion.cursor()\n",
        "\n",
        "#creación de nueva base de datos\n",
        "cursor.execute(\"CREATE DATABASE prueba_final;\")"
      ]
    },
    {
      "cell_type": "code",
      "execution_count": null,
      "id": "86b2a30a",
      "metadata": {
        "id": "86b2a30a"
      },
      "outputs": [],
      "source": [
        "try:\n",
        "    cursor.execute(\"CREATE DATABASE pruebas;\")\n",
        "    print(\"Se creó correctamente la base de datos.\")\n",
        "except:\n",
        "    print(\"Ocurrió un error al crear la base de datos. Inténtelo de nuevo.\")"
      ]
    },
    {
      "cell_type": "markdown",
      "id": "6c9363f5",
      "metadata": {
        "id": "6c9363f5"
      },
      "source": [
        "## Eliminar base de datos"
      ]
    },
    {
      "cell_type": "code",
      "execution_count": null,
      "id": "d0cead7f",
      "metadata": {
        "id": "d0cead7f"
      },
      "outputs": [],
      "source": [
        "#eliminación de base de datos\n",
        "try:\n",
        "    cursor.execute(\"DROP DATABASE pruebas;\")\n",
        "    print(\"Se eliminó correctamente la base de datos.\")\n",
        "except:\n",
        "    print(\"Ocurrió un error al intentar eliminar la base de datos. Verifica tu instrucción.\")"
      ]
    },
    {
      "cell_type": "markdown",
      "id": "17f00d28",
      "metadata": {
        "id": "17f00d28"
      },
      "source": [
        "## Crear tabla en base de datos"
      ]
    },
    {
      "cell_type": "code",
      "execution_count": null,
      "id": "bbb1d9db",
      "metadata": {
        "id": "bbb1d9db",
        "outputId": "b9409d30-01eb-4437-ffe9-c95d509c6c2d"
      },
      "outputs": [
        {
          "name": "stdout",
          "output_type": "stream",
          "text": [
            "Se creó correctamente la tabla.\n"
          ]
        }
      ],
      "source": [
        "#conexion con la base de datos\n",
        "conexion = mysql.connector.connect(\n",
        "    host = \"localhost\",\n",
        "    user = \"root\",\n",
        "    password = \"\", ## Añadir password propia\n",
        "    database = \"prueba_final\"\n",
        ")\n",
        "\n",
        "#creación del cursor\n",
        "cursor = conexion.cursor()\n",
        "\n",
        "#creación de una tabla\n",
        "try:\n",
        "    cursor.execute(\"CREATE TABLE clientes\"\n",
        "    \"(id INT NOT NULL AUTO_INCREMENT,\"\n",
        "    \"nombre VARCHAR (32) NOT NULL,\"\n",
        "    \"apellidos VARCHAR (64) NOT NULL,\"\n",
        "    \"telefono VARCHAR (9) NOT NULL,\"\n",
        "    \"direccion VARCHAR (256), \"\n",
        "    \"PRIMARY KEY (id));\")\n",
        "    print(\"Se creó correctamente la tabla.\")\n",
        "except:\n",
        "    print(\"Ocurrió un error al intentar crear la tabla. Inténtelo de nuevo.\")"
      ]
    },
    {
      "cell_type": "code",
      "execution_count": null,
      "id": "245ca181",
      "metadata": {
        "id": "245ca181",
        "outputId": "15165025-e409-490e-bac6-13e0073e781f"
      },
      "outputs": [
        {
          "data": {
            "text/html": [
              "<div>\n",
              "<style scoped>\n",
              "    .dataframe tbody tr th:only-of-type {\n",
              "        vertical-align: middle;\n",
              "    }\n",
              "\n",
              "    .dataframe tbody tr th {\n",
              "        vertical-align: top;\n",
              "    }\n",
              "\n",
              "    .dataframe thead th {\n",
              "        text-align: right;\n",
              "    }\n",
              "</style>\n",
              "<table border=\"1\" class=\"dataframe\">\n",
              "  <thead>\n",
              "    <tr style=\"text-align: right;\">\n",
              "      <th></th>\n",
              "      <th>id</th>\n",
              "      <th>nombre</th>\n",
              "      <th>apellidos</th>\n",
              "      <th>telefono</th>\n",
              "      <th>direccion</th>\n",
              "    </tr>\n",
              "  </thead>\n",
              "  <tbody>\n",
              "    <tr>\n",
              "      <th>0</th>\n",
              "      <td>1</td>\n",
              "      <td>antonio</td>\n",
              "      <td>arroyo</td>\n",
              "      <td>111111111</td>\n",
              "      <td>calle a</td>\n",
              "    </tr>\n",
              "    <tr>\n",
              "      <th>1</th>\n",
              "      <td>2</td>\n",
              "      <td>benito</td>\n",
              "      <td>buendia</td>\n",
              "      <td>222222222</td>\n",
              "      <td>calle b</td>\n",
              "    </tr>\n",
              "    <tr>\n",
              "      <th>2</th>\n",
              "      <td>3</td>\n",
              "      <td>carlos</td>\n",
              "      <td>cordoba</td>\n",
              "      <td>333333333</td>\n",
              "      <td>calle c</td>\n",
              "    </tr>\n",
              "    <tr>\n",
              "      <th>3</th>\n",
              "      <td>4</td>\n",
              "      <td>daniel</td>\n",
              "      <td>dominguez</td>\n",
              "      <td>444444444</td>\n",
              "      <td>calle d</td>\n",
              "    </tr>\n",
              "    <tr>\n",
              "      <th>4</th>\n",
              "      <td>5</td>\n",
              "      <td>enrique</td>\n",
              "      <td>enriquez</td>\n",
              "      <td>555555555</td>\n",
              "      <td>calle e</td>\n",
              "    </tr>\n",
              "  </tbody>\n",
              "</table>\n",
              "</div>"
            ],
            "text/plain": [
              "   id   nombre  apellidos   telefono direccion\n",
              "0   1  antonio     arroyo  111111111   calle a\n",
              "1   2   benito    buendia  222222222   calle b\n",
              "2   3   carlos    cordoba  333333333   calle c\n",
              "3   4   daniel  dominguez  444444444   calle d\n",
              "4   5  enrique   enriquez  555555555   calle e"
            ]
          },
          "execution_count": 5,
          "metadata": {},
          "output_type": "execute_result"
        }
      ],
      "source": [
        "import pandas as pd\n",
        "\n",
        "df = pd.read_csv('df_prueba.csv')\n",
        "df"
      ]
    },
    {
      "cell_type": "code",
      "execution_count": null,
      "id": "1d9893da",
      "metadata": {
        "id": "1d9893da",
        "outputId": "ede17ec5-dffc-4576-c2c1-1d4ac9f9113e"
      },
      "outputs": [
        {
          "name": "stdout",
          "output_type": "stream",
          "text": [
            "Se ingresó correctamente el registro: 0\n",
            "Se ingresó correctamente el registro: 1\n",
            "Se ingresó correctamente el registro: 2\n",
            "Se ingresó correctamente el registro: 3\n",
            "Se ingresó correctamente el registro: 4\n"
          ]
        }
      ],
      "source": [
        "#conexion con la base de datos\n",
        "conexion = mysql.connector.connect(\n",
        "    host = \"localhost\",\n",
        "    user = \"root\",\n",
        "    password = \"\", ## Añadir password\n",
        "    database = \"prueba_final\"\n",
        ")\n",
        "\n",
        "#creación de una tabla\n",
        "try:\n",
        "    for i in range(0, df.shape[0]):\n",
        "        id_ = df.loc[i,'id']\n",
        "        nombre = df.loc[i,'nombre']\n",
        "        apellidos = df.loc[i,'apellidos']\n",
        "        telefono = df.loc[i,'telefono']\n",
        "        direccion = df.loc[i,'direccion']\n",
        "        query = \"INSERT INTO clientes(id, nombre, apellidos, telefono, direccion) values(\" + str(id_) + \",'\" + nombre + \"','\" + apellidos + \"','\" + str(telefono) + \"','\" + direccion + \"');\"\n",
        "        cursor = conexion.cursor()\n",
        "        cursor.execute(query)\n",
        "        conexion.commit()\n",
        "        print(\"Se ingresó correctamente el registro:\", i)\n",
        "        cursor.close()\n",
        "except:\n",
        "    print(\"Ocurrió un error al intentar ingresar el registro. Inténtelo de nuevo.\")"
      ]
    },
    {
      "cell_type": "code",
      "execution_count": null,
      "id": "1f2d9a72",
      "metadata": {
        "id": "1f2d9a72"
      },
      "outputs": [],
      "source": []
    }
  ],
  "metadata": {
    "kernelspec": {
      "display_name": "Python 3 (ipykernel)",
      "language": "python",
      "name": "python3"
    },
    "language_info": {
      "codemirror_mode": {
        "name": "ipython",
        "version": 3
      },
      "file_extension": ".py",
      "mimetype": "text/x-python",
      "name": "python",
      "nbconvert_exporter": "python",
      "pygments_lexer": "ipython3",
      "version": "3.10.6"
    },
    "colab": {
      "provenance": []
    }
  },
  "nbformat": 4,
  "nbformat_minor": 5
}